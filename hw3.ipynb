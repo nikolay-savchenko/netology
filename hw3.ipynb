{
 "cells": [
  {
   "cell_type": "markdown",
   "metadata": {},
   "source": [
    "ex 1"
   ]
  },
  {
   "cell_type": "code",
   "execution_count": 2,
   "metadata": {},
   "outputs": [],
   "source": [
    "ids = {'user1': [213, 213, 213, 15, 213], \n",
    "       'user2': [54, 54, 119, 119, 119], \n",
    "       'user3': [213, 98, 98, 35]}"
   ]
  },
  {
   "cell_type": "code",
   "execution_count": 3,
   "metadata": {},
   "outputs": [
    {
     "name": "stdout",
     "output_type": "stream",
     "text": [
      "{98, 35, 15, 213, 54, 119}\n"
     ]
    }
   ],
   "source": [
    "ids_conc = []\n",
    "for user in ids:\n",
    "    for i in ids[user]:\n",
    "        ids_conc.append(i)\n",
    "ids_unique = set(ids_conc)\n",
    "print(ids_unique)"
   ]
  },
  {
   "cell_type": "markdown",
   "metadata": {},
   "source": [
    "ex 2"
   ]
  },
  {
   "cell_type": "code",
   "execution_count": 5,
   "metadata": {},
   "outputs": [],
   "source": [
    "queries = [\n",
    "    'смотреть сериалы онлайн',\n",
    "    'новости спорта',\n",
    "    'афиша кино',\n",
    "    'курс доллара',\n",
    "    'сериалы этим летом',\n",
    "    'курс по питону',\n",
    "    'сериалы про спорт']"
   ]
  },
  {
   "cell_type": "code",
   "execution_count": 10,
   "metadata": {},
   "outputs": [],
   "source": [
    "queries_len = []\n",
    "for q in queries:\n",
    "    q_list = q.split(' ')\n",
    "    queries_len.append(len(q_list))\n"
   ]
  },
  {
   "cell_type": "code",
   "execution_count": 13,
   "metadata": {},
   "outputs": [
    {
     "name": "stdout",
     "output_type": "stream",
     "text": [
      "Поисковых запросов, содержащих 2 слов(а): 42.86%\n",
      "Поисковых запросов, содержащих 3 слов(а): 57.14%\n"
     ]
    }
   ],
   "source": [
    "queries_len = sorted(queries_len)\n",
    "queries_len_unique = list(set(queries_len))\n",
    "frequency = []\n",
    "\n",
    "for i in queries_len_unique:\n",
    "    f = 0\n",
    "    for l in queries_len:\n",
    "        if l == i:\n",
    "            f += 1\n",
    "    frequency.append([i, f])\n",
    "\n",
    "freq_sum = 0\n",
    "for element in frequency:\n",
    "    freq_sum += element[1]\n",
    "\n",
    "for element in frequency:\n",
    "    percent = round(element[1] / freq_sum * 100, 2)\n",
    "    print(f'Поисковых запросов, содержащих {element[0]} слов(а): {percent}%')"
   ]
  },
  {
   "cell_type": "markdown",
   "metadata": {},
   "source": [
    "ex 3\n"
   ]
  },
  {
   "cell_type": "code",
   "execution_count": 19,
   "metadata": {},
   "outputs": [],
   "source": [
    "results = {\n",
    "    'vk': {'revenue': 103, 'cost': 98},\n",
    "    'yandex': {'revenue': 179, 'cost': 153},\n",
    "    'facebook': {'revenue': 103, 'cost': 110},\n",
    "    'adwords': {'revenue': 35, 'cost': 34},\n",
    "    'twitter': {'revenue': 11, 'cost': 24},\n",
    "}"
   ]
  },
  {
   "cell_type": "code",
   "execution_count": 42,
   "metadata": {},
   "outputs": [
    {
     "name": "stdout",
     "output_type": "stream",
     "text": [
      "{'vk': {'ROI': 5.1, 'revenue': 103, 'cost': 98}, 'yandex': {'ROI': 16.99, 'revenue': 179, 'cost': 153}, 'facebook': {'ROI': -6.36, 'revenue': 103, 'cost': 110}, 'adwords': {'ROI': 2.94, 'revenue': 35, 'cost': 34}, 'twitter': {'ROI': -54.17, 'revenue': 11, 'cost': 24}}\n"
     ]
    }
   ],
   "source": [
    "for key in results:\n",
    "    a=results[key]\n",
    "    roi=round((results[key]['revenue'] / results[key]['cost'] -1) * 100, 2)\n",
    "    roi_dict=dict([('ROI',roi)])\n",
    "    roi_dict.update(a)\n",
    "    results[key]=roi_dict\n",
    "print(results)"
   ]
  },
  {
   "cell_type": "markdown",
   "metadata": {},
   "source": [
    "ex 4"
   ]
  },
  {
   "cell_type": "code",
   "execution_count": 43,
   "metadata": {},
   "outputs": [],
   "source": [
    "stats = {'facebook': 55, 'yandex': 115, 'vk': 120, 'google': 99, 'email': 42, 'ok': 98}"
   ]
  },
  {
   "cell_type": "code",
   "execution_count": 44,
   "metadata": {},
   "outputs": [
    {
     "name": "stdout",
     "output_type": "stream",
     "text": [
      "Максимальный объем продаж на рекламном канале: vk\n"
     ]
    }
   ],
   "source": [
    "channels = list(stats.keys())\n",
    "sales = list(stats.values())\n",
    "max_sales = max(sales)\n",
    "for channel in channels:\n",
    "    if stats[channel] == max_sales:\n",
    "        print('Максимальный объем продаж на рекламном канале:', channel)"
   ]
  },
  {
   "cell_type": "markdown",
   "metadata": {},
   "source": [
    "ex5"
   ]
  },
  {
   "cell_type": "code",
   "execution_count": 47,
   "metadata": {},
   "outputs": [],
   "source": [
    "my_list = ['a', 'b', 'c', 'd', 'e', 'f']"
   ]
  },
  {
   "cell_type": "code",
   "execution_count": 48,
   "metadata": {},
   "outputs": [
    {
     "name": "stdout",
     "output_type": "stream",
     "text": [
      "{'a': {'b': {'c': {'d': {'e': 'f'}}}}}\n"
     ]
    }
   ],
   "source": [
    "n = len(my_list) - 1\n",
    "dict_last = {my_list[n-1]: my_list[n]}\n",
    "while n > 1:\n",
    "    dict_result = {my_list[n-2]: dict_last}\n",
    "    dict_last = dict_result\n",
    "    n -= 1\n",
    "print(dict_result)"
   ]
  }
 ],
 "metadata": {
  "kernelspec": {
   "display_name": "Python 3",
   "language": "python",
   "name": "python3"
  },
  "language_info": {
   "codemirror_mode": {
    "name": "ipython",
    "version": 3
   },
   "file_extension": ".py",
   "mimetype": "text/x-python",
   "name": "python",
   "nbconvert_exporter": "python",
   "pygments_lexer": "ipython3",
   "version": "3.7.4"
  }
 },
 "nbformat": 4,
 "nbformat_minor": 2
}
