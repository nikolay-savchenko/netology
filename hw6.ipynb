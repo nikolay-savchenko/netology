{
 "cells": [
  {
   "cell_type": "code",
   "execution_count": 2,
   "metadata": {},
   "outputs": [],
   "source": [
    "import re"
   ]
  },
  {
   "cell_type": "markdown",
   "metadata": {},
   "source": [
    "ex 1"
   ]
  },
  {
   "cell_type": "code",
   "execution_count": 28,
   "metadata": {},
   "outputs": [
    {
     "name": "stdout",
     "output_type": "stream",
     "text": [
      "Введите автомобильные номер -> А123ВВ123\n",
      "Автомобильные номер: А123ВВ валиден. Регион: 123\n"
     ]
    }
   ],
   "source": [
    "\n",
    "\n",
    "def check_n(number):\n",
    "    if re.findall(r'^([A-ZАВЕКМНОРСТУХ]\\d{3}[A-ZАВЕКМНОРСТУХ]{2})(\\d{2,3})$', number):\n",
    "        auto_number = re.findall(r'^([A-ZАВЕКМНОРСТУХ]\\d{3}[A-ZАВЕКМНОРСТУХ]{2})(\\d{2,3})$', number)[0][0]\n",
    "        region_number = re.findall(r'^([A-ZАВЕКМНОРСТУХ]\\d{3}[A-ZАВЕКМНОРСТУХ]{2})(\\d{2,3})$', number)[0][1]\n",
    "        return auto_number, region_number \n",
    "    else:\n",
    "        return False\n",
    "\n",
    "number = input(\"Введите автомобильные номер -> \")\n",
    "if check_n(number):\n",
    "    print(\"Автомобильные номер:\", check_n(number)[0], \\\n",
    "          \"валиден. Регион:\", check_n(number)[1])\n",
    "\n",
    "else:\n",
    "    print(\"Номер не валиден\")"
   ]
  },
  {
   "cell_type": "markdown",
   "metadata": {},
   "source": [
    "ex 2"
   ]
  },
  {
   "cell_type": "code",
   "execution_count": 29,
   "metadata": {},
   "outputs": [
    {
     "name": "stdout",
     "output_type": "stream",
     "text": [
      "Напишите функцию, которая будет удалять все последовательные повторы слов из заданной строки при помощи регулярных выражений.\n"
     ]
    }
   ],
   "source": [
    "\n",
    "def del_repeat(some_string):    \n",
    "    return re.sub(r'\\b(\\w+)( \\1\\b)+', r'\\1', some_string)\n",
    "\n",
    "some_string = 'Напишите функцию функцию, которая будет будет будет будет удалять все все все все последовательные повторы слов из из из из заданной строки строки при помощи регулярных выражений.'\n",
    "\n",
    "print(del_repeat(some_string))"
   ]
  },
  {
   "cell_type": "markdown",
   "metadata": {},
   "source": [
    "ex 3"
   ]
  },
  {
   "cell_type": "code",
   "execution_count": 30,
   "metadata": {},
   "outputs": [
    {
     "name": "stdout",
     "output_type": "stream",
     "text": [
      "Введите строку -> very imp people\n",
      "Результат: VIP\n"
     ]
    }
   ],
   "source": [
    "\n",
    "def acronim(some_string):\n",
    "    result_string = ''\n",
    "    for item in re.findall(r'\\b\\w(?:\\s)?', some_string.title()):\n",
    "        result_string += item\n",
    "    return result_string\n",
    "    \n",
    "some_string = input(\"Введите строку -> \")\n",
    "\n",
    "print(\"Результат:\", acronim(some_string))"
   ]
  },
  {
   "cell_type": "markdown",
   "metadata": {},
   "source": [
    "ex 4 "
   ]
  },
  {
   "cell_type": "code",
   "execution_count": 31,
   "metadata": {},
   "outputs": [
    {
     "name": "stdout",
     "output_type": "stream",
     "text": [
      "Результат:\n",
      "mail.ru: 1\n",
      "gmail.com: 2\n",
      "test.in: 1\n",
      "ya.ru: 2\n"
     ]
    }
   ],
   "source": [
    "def count_email(email_list):\n",
    "    domain_zone = []\n",
    "    for item in email_list:\n",
    "        domain_zone.append(re.findall(r'(?<=@)[a-z\\.]+', item)[0])\n",
    "    print(\"Результат:\")\n",
    "    for item in set(domain_zone):\n",
    "        print(item, \": \", domain_zone.count(item), sep='')\n",
    "        \n",
    "\n",
    "emails = ['test@gmail.com', 'xyz@test.in', 'test@ya.ru', 'xyz@mail.ru', 'xyz@ya.ru', 'xyz@gmail.com']\n",
    "\n",
    "count_email(emails)"
   ]
  },
  {
   "cell_type": "markdown",
   "metadata": {},
   "source": [
    "ex 5"
   ]
  },
  {
   "cell_type": "code",
   "execution_count": 32,
   "metadata": {},
   "outputs": [
    {
     "name": "stdout",
     "output_type": "stream",
     "text": [
      "Результат:\n",
      "Слов на гласные буквы: 9\n",
      "Слов на согласные буквы: 21\n"
     ]
    }
   ],
   "source": [
    "def count_words(some_text):\n",
    "    print(\"Слов на гласные буквы:\", len(re.findall(r'\\b[аоэеиыуёюяaeiouy]\\w*\\b', some_text.lower())))\n",
    "    print(\"Слов на согласные буквы:\", len(re.findall(r'\\b[BCDFGHJKLMNPQRSTVWXZБВГДЖЗЙКЛМНПРСТФХЦЧШЩ]\\w*\\b', some_text.title())))\n",
    "\n",
    "some_text = 'Эталонной реализацией Python является интерпретатор CPython, поддерживающий большинство активно используемых платформ. Он распространяется под свободной лицензией Python Software Foundation License, позволяющей использовать его без ограничений в любых приложениях, включая проприетарные.'\n",
    "\n",
    "print(\"Результат:\")\n",
    "count_words(some_text)"
   ]
  }
 ],
 "metadata": {
  "kernelspec": {
   "display_name": "Python 3",
   "language": "python",
   "name": "python3"
  }
 },
 "nbformat": 4,
 "nbformat_minor": 2
}
