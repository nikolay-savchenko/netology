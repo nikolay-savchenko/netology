{
 "cells": [
  {
   "cell_type": "markdown",
   "metadata": {},
   "source": [
    "ex 1"
   ]
  },
  {
   "cell_type": "code",
   "execution_count": 2,
   "metadata": {},
   "outputs": [
    {
     "name": "stdout",
     "output_type": "stream",
     "text": [
      "t\n"
     ]
    }
   ],
   "source": [
    "word = 'testing'\n",
    "is_even = len(word) % 2 == 0\n",
    "l_1 = len(word) // 2 - 1\n",
    "l_2 = len(word) // 2 + 1\n",
    "l_3 = len(word) // 2\n",
    "if is_even:\n",
    "    result = word[l_1:l_2]\n",
    "else:\n",
    "    result = word[l_3]\n",
    "print(result)"
   ]
  },
  {
   "cell_type": "markdown",
   "metadata": {},
   "source": [
    "ex 2"
   ]
  },
  {
   "cell_type": "code",
   "execution_count": 8,
   "metadata": {},
   "outputs": [
    {
     "name": "stdout",
     "output_type": "stream",
     "text": [
      "Введите число: 2\n",
      "Введите число: 4\n",
      "Введите число: 6\n",
      "Введите число: 8\n",
      "Введите число: 0\n",
      "20\n"
     ]
    }
   ],
   "source": [
    "a = int(input('Введите число: '))\n",
    "sum_a = a\n",
    "while a != 0:\n",
    "    a = int(input('Введите число: '))\n",
    "    sum_a += a\n",
    "print(sum_a)"
   ]
  },
  {
   "cell_type": "markdown",
   "metadata": {},
   "source": [
    "ex 3"
   ]
  },
  {
   "cell_type": "code",
   "execution_count": 9,
   "metadata": {},
   "outputs": [],
   "source": [
    "boys = ['Peter', 'Alex', 'John', 'Arthur', 'Richard']\n",
    "girls = ['Kate', 'Liza', 'Kira', 'Emma', 'Trisha']"
   ]
  },
  {
   "cell_type": "code",
   "execution_count": 10,
   "metadata": {},
   "outputs": [],
   "source": [
    "num_boys = len(boys)\n",
    "num_girls = len(girls)"
   ]
  },
  {
   "cell_type": "code",
   "execution_count": 11,
   "metadata": {},
   "outputs": [
    {
     "name": "stdout",
     "output_type": "stream",
     "text": [
      "Идеальные пары:\n",
      "Alex и Emma\n",
      "Arthur и Kate\n",
      "John и Kira\n",
      "Peter и Liza\n",
      "Richard и Trisha\n"
     ]
    }
   ],
   "source": [
    "if num_boys != num_girls:\n",
    "    print('Внимание, кто-то может остаться без пары!')\n",
    "else:\n",
    "    alp_order_boys = sorted(boys)\n",
    "    alp_order_girls = sorted(girls)\n",
    "    print('Идеальные пары:')\n",
    "    for boy in alp_order_boys:\n",
    "        i = alp_order_boys.index(boy)\n",
    "        girl = alp_order_girls[i]\n",
    "        print(boy, 'и', girl)"
   ]
  },
  {
   "cell_type": "markdown",
   "metadata": {},
   "source": [
    "ex 4"
   ]
  },
  {
   "cell_type": "code",
   "execution_count": 12,
   "metadata": {},
   "outputs": [],
   "source": [
    "countries_temperature = [\n",
    "    ['Thailand', [75.2, 77, 78.8, 73.4, 68, 75.2, 77]],\n",
    "    ['Germany', [57.2, 55.4, 59, 59, 53.6]],\n",
    "    ['Russia', [35.6, 37.4, 39.2, 41, 42.8, 39.2, 35.6]],\n",
    "    ['Poland', [50, 50, 53.6, 57.2, 55.4, 55.4]]\n",
    "]\n"
   ]
  },
  {
   "cell_type": "code",
   "execution_count": 13,
   "metadata": {},
   "outputs": [
    {
     "name": "stdout",
     "output_type": "stream",
     "text": [
      "Thailand - 23.9 C\n",
      "Germany - 13.8 C\n",
      "Russia - 3.7 C\n",
      "Poland - 12.0 C\n"
     ]
    }
   ],
   "source": [
    "for country in countries_temperature:\n",
    "    country_name, observations = country\n",
    "    observations_num = len(observations)\n",
    "    temp_sum = 0\n",
    "    for i in observations:\n",
    "        temp = 5 / 9 * (i - 32)\n",
    "        temp_sum += temp\n",
    "    temp_avg = round(temp_sum / observations_num , 1)\n",
    "    print(country_name, '-', temp_avg, 'C')"
   ]
  },
  {
   "cell_type": "markdown",
   "metadata": {},
   "source": [
    "ex 5"
   ]
  },
  {
   "cell_type": "code",
   "execution_count": 17,
   "metadata": {},
   "outputs": [],
   "source": [
    "stream = [\n",
    "    '2018-01-01,user1,3',\n",
    "    '2018-01-07,user1,4',\n",
    "    '2018-03-29,user1,1',\n",
    "    '2018-04-04,user1,13',\n",
    "    '2018-01-05,user2,7',\n",
    "    '2018-06-14,user3,4',\n",
    "    '2018-07-02,user3,10',\n",
    "    '2018-03-21,user4,19',\n",
    "    '2018-03-22,user4,4',\n",
    "    '2018-04-22,user4,8',\n",
    "    '2018-05-03,user4,9',\n",
    "    '2018-05-11,user4,11',\n",
    "]\n"
   ]
  },
  {
   "cell_type": "code",
   "execution_count": 21,
   "metadata": {},
   "outputs": [
    {
     "name": "stdout",
     "output_type": "stream",
     "text": [
      "Среднее количество просмотров на уникального пользователя: 23.25\n"
     ]
    }
   ],
   "source": [
    "stream_list = []\n",
    "for log in stream:\n",
    "    log_list = log.split(',')\n",
    "    stream_list.append(log_list)\n",
    "unique_users = []\n",
    "views = 0\n",
    "for l in stream_list:\n",
    "    views += int(l[2])\n",
    "    if l[1] not in unique_users:\n",
    "        unique_users.append(l[1])\n",
    "unique_users_count = len(unique_users)\n",
    "avg_views = round(views / unique_users_count, 2)\n",
    "print('Среднее количество просмотров на уникального пользователя:', avg_views)"
   ]
  }
 ],
 "metadata": {
  "kernelspec": {
   "display_name": "Python 3",
   "language": "python",
   "name": "python3"
  },
  "language_info": {
   "codemirror_mode": {
    "name": "ipython",
    "version": 3
   },
   "file_extension": ".py",
   "mimetype": "text/x-python",
   "name": "python",
   "nbconvert_exporter": "python",
   "pygments_lexer": "ipython3",
   "version": "3.7.4"
  }
 },
 "nbformat": 4,
 "nbformat_minor": 2
}
