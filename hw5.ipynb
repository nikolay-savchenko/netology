{
 "cells": [
  {
   "cell_type": "code",
   "execution_count": 5,
   "metadata": {},
   "outputs": [],
   "source": [
    "import json"
   ]
  },
  {
   "cell_type": "code",
   "execution_count": 17,
   "metadata": {},
   "outputs": [],
   "source": [
    "with open('purchase_log.txt', 'r', encoding='utf-8') as pl:\n",
    "    purch_log = pl.readlines()\n",
    "    purchases_dict = {}\n",
    "    for element in purch_log:\n",
    "        dict_ = json.loads(element)\n",
    "        purchases_dict[dict_['user_id']] = dict_['category']\n",
    "pl.close()"
   ]
  },
  {
   "cell_type": "code",
   "execution_count": 18,
   "metadata": {},
   "outputs": [],
   "source": [
    "with open('visit_log.csv', 'r') as vl:\n",
    "    with open('funnel.csv', 'w') as f:\n",
    "        for line in vl:\n",
    "            line_list = line.strip().split(',')\n",
    "            if line_list[0] in purchases_dict:\n",
    "                list_row = [line_list[0],\n",
    "                            line_list[1],\n",
    "                            purchases_dict[line_list[0]]]\n",
    "                str_row = ','.join(list_row) + '\\n'\n",
    "                f.write(str_row)\n",
    "vl.close()\n",
    "f.close()"
   ]
  }
 ],
 "metadata": {
  "kernelspec": {
   "display_name": "Python 3",
   "language": "python",
   "name": "python3"
  },
  "language_info": {
   "codemirror_mode": {
    "name": "ipython",
    "version": 3
   },
   "file_extension": ".py",
   "mimetype": "text/x-python",
   "name": "python",
   "nbconvert_exporter": "python",
   "pygments_lexer": "ipython3",
   "version": "3.7.4"
  }
 },
 "nbformat": 4,
 "nbformat_minor": 2
}
