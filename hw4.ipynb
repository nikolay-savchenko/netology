{
 "cells": [
  {
   "cell_type": "code",
   "execution_count": 1,
   "metadata": {},
   "outputs": [],
   "source": [
    "documents = [\n",
    "{'type': 'passport', 'number': '2207 876234', 'name': 'Василий Гупкин'},\n",
    "{'type': 'invoice', 'number': '11-2', 'name': 'Геннадий Покемонов'},\n",
    "{'type': 'insurance', 'number': '10006', 'name': 'Аристарх Павлов'}\n",
    "]"
   ]
  },
  {
   "cell_type": "code",
   "execution_count": 2,
   "metadata": {},
   "outputs": [],
   "source": [
    "directories = {\n",
    "'1': ['2207 876234', '11-2'],\n",
    "'2': ['10006'],\n",
    "'3': []\n",
    "}"
   ]
  },
  {
   "cell_type": "code",
   "execution_count": 3,
   "metadata": {},
   "outputs": [],
   "source": [
    "def get_doc_types():\n",
    "    \"\"\"\n",
    "   списк уник типов\n",
    "    \"\"\"\n",
    "    doc_types = []\n",
    "    for document in documents:\n",
    "        if document['type'] not in doc_types:\n",
    "            doc_types.append(document['type'])\n",
    "    return doc_types"
   ]
  },
  {
   "cell_type": "code",
   "execution_count": 4,
   "metadata": {},
   "outputs": [],
   "source": [
    "def get_doc_numbers():\n",
    "    \"\"\"\n",
    "    список уник номеров док\n",
    "    \"\"\"\n",
    "    doc_numbers = []\n",
    "    for document in documents:\n",
    "        if document['number'] not in doc_numbers:\n",
    "            doc_numbers.append(document['number'])\n",
    "    return doc_numbers"
   ]
  },
  {
   "cell_type": "code",
   "execution_count": 5,
   "metadata": {},
   "outputs": [],
   "source": [
    "def get_doc_owners():\n",
    "    \"\"\"\n",
    "    список ун влад\n",
    "    \"\"\"\n",
    "    doc_owners = []\n",
    "    for document in documents:\n",
    "        if document['name'] not in doc_owners:\n",
    "            doc_owners.append(document['name'])\n",
    "    return doc_owners"
   ]
  },
  {
   "cell_type": "code",
   "execution_count": 6,
   "metadata": {},
   "outputs": [],
   "source": [
    "def doc_num_exists(doc_num):\n",
    "    \"\"\"\n",
    "    есть ли в списке докум\n",
    "    \"\"\"\n",
    "    return doc_num in get_doc_numbers()"
   ]
  },
  {
   "cell_type": "code",
   "execution_count": 7,
   "metadata": {},
   "outputs": [],
   "source": [
    "def doc_type_exists(doc_type):\n",
    "    \"\"\"\n",
    "    есть ли такой тип\n",
    "    \"\"\"\n",
    "    return doc_type in get_doc_types()"
   ]
  },
  {
   "cell_type": "code",
   "execution_count": 8,
   "metadata": {},
   "outputs": [],
   "source": [
    "def doc_owner_exists(doc_owner):\n",
    "    \"\"\"\n",
    "    есть ли такой влад\n",
    "    \"\"\"\n",
    "    return doc_owner in get_doc_owners()"
   ]
  },
  {
   "cell_type": "code",
   "execution_count": 9,
   "metadata": {},
   "outputs": [],
   "source": [
    "def directory_exists(direc):\n",
    "    \"\"\"\n",
    "    есть ли такая директория\n",
    "    \"\"\"\n",
    "    return direc in directories"
   ]
  },
  {
   "cell_type": "code",
   "execution_count": 10,
   "metadata": {},
   "outputs": [],
   "source": [
    "def input_doc_num():\n",
    "   \n",
    "    doc_num = input('Введите номер документа')\n",
    "    return doc_num"
   ]
  },
  {
   "cell_type": "code",
   "execution_count": 11,
   "metadata": {},
   "outputs": [],
   "source": [
    "def input_shelf():\n",
    "\n",
    "    shelf_num = input('Введите номер полки')\n",
    "    return shelf_num"
   ]
  },
  {
   "cell_type": "code",
   "execution_count": 12,
   "metadata": {},
   "outputs": [],
   "source": [
    "def shelves_str():\n",
    "\n",
    "    return ', '.join(list(directories.keys()))"
   ]
  },
  {
   "cell_type": "code",
   "execution_count": 13,
   "metadata": {},
   "outputs": [],
   "source": [
    "def command_p(doc_num):\n",
    "    \n",
    "    if not doc_num_exists(doc_num):\n",
    "        result = 'Документ не найден в базе'\n",
    "    else:\n",
    "        for line in documents:\n",
    "            if doc_num == line['number']:\n",
    "                result = f\"Владелец документа: {line['name']}\"\n",
    "    return result"
   ]
  },
  {
   "cell_type": "code",
   "execution_count": 14,
   "metadata": {},
   "outputs": [],
   "source": [
    "def def_shelf(doc_num):\n",
    "\n",
    "    if doc_num_exists(doc_num):\n",
    "        for key, values in directories.items():\n",
    "            if doc_num in values:\n",
    "                result = key\n",
    "    else:\n",
    "        result = 'Документ не найден в базе'\n",
    "    return result"
   ]
  },
  {
   "cell_type": "code",
   "execution_count": 15,
   "metadata": {},
   "outputs": [],
   "source": [
    "def command_s(doc_num):\n",
    "  \n",
    "    if not doc_num_exists(doc_num):\n",
    "        result  = 'Документ не найден в базе'\n",
    "    else:\n",
    "        result = f\"Документ хранится на полке: {def_shelf(doc_num)}\"\n",
    "    print(result)"
   ]
  },
  {
   "cell_type": "code",
   "execution_count": 16,
   "metadata": {},
   "outputs": [],
   "source": [
    "def command_l():\n",
    "\n",
    "    for element in documents:\n",
    "        print(f\"№: {element['number']}, \\\n",
    "тип: {element['type']}, \\\n",
    "владелец: {element['name']}, \\\n",
    "полка хранения: {def_shelf(element['number'])}\")"
   ]
  },
  {
   "cell_type": "code",
   "execution_count": 17,
   "metadata": {},
   "outputs": [],
   "source": [
    "def command_ads():\n",
    "    ads_num = input_shelf()\n",
    "    if directory_exists(ads_num):\n",
    "        result = f\"Такая полка уже существует. Текущий перечень полок: {shelves_str()}\"\n",
    "    else:\n",
    "        directories[ads_num] = []\n",
    "        result = f\"Полка добавлена. Текущий перечень полок: {shelves_str()}\"\n",
    "    print(result)"
   ]
  },
  {
   "cell_type": "code",
   "execution_count": 18,
   "metadata": {},
   "outputs": [],
   "source": [
    "def command_ds():\n",
    "    ds_num = input_shelf()\n",
    "    if directory_exists(ds_num) and directories[ds_num] == []:\n",
    "        del(directories[ds_num])\n",
    "        result = f\"Полка удалена. \\\n",
    "        Текущий перечень полок: {shelves_str()}\"\n",
    "    elif directory_exists(ds_num) and directories[ds_num] != []:\n",
    "        result = f\"На полке есть документы, удалите их перед удалением полки. \\\n",
    "        Текущий перечень полок: {shelves_str()}\"\n",
    "    else:\n",
    "        result = f\"Такой полки не существует. \\\n",
    "        Текущий перечень полок: {shelves_str()}\"\n",
    "    print(result)"
   ]
  },
  {
   "cell_type": "code",
   "execution_count": 19,
   "metadata": {},
   "outputs": [],
   "source": [
    "def command_ad():\n",
    "    doc_num = input_doc_num()\n",
    "    doc_type = input('Введите тип документа')\n",
    "    doc_owner = input('Введите владельца документа')\n",
    "    doc_shelf = input('Введите полку для хранения')\n",
    "    if directory_exists(doc_shelf):\n",
    "        documents.append({'type': doc_type,\n",
    "                          'number': doc_num,\n",
    "                          'name': doc_owner})\n",
    "        directories[doc_shelf].append(doc_num)\n",
    "        print('Документ добавлен.\\nТекущий список документов:')\n",
    "        command_l()\n",
    "    else:\n",
    "        print('Такой полки не существует. Добавьте полку командой as.\\\n",
    "              \\nТекущий список документов:')\n",
    "        command_l()"
   ]
  },
  {
   "cell_type": "code",
   "execution_count": 20,
   "metadata": {},
   "outputs": [],
   "source": [
    "def doc_count(doc_num):\n",
    "    c = 0\n",
    "    for document in documents:\n",
    "        if document['number'] == doc_num:\n",
    "            c += 1\n",
    "    return c"
   ]
  },
  {
   "cell_type": "code",
   "execution_count": 21,
   "metadata": {},
   "outputs": [],
   "source": [
    "def command_d():\n",
    "\n",
    "    doc_num = input_doc_num()\n",
    "    if doc_num_exists(doc_num):\n",
    "        i = 0\n",
    "        while i < doc_count(doc_num):\n",
    "            i += 1\n",
    "            for document in documents:\n",
    "                if document['number'] == doc_num:\n",
    "                    directories[def_shelf(doc_num)].remove(doc_num)\n",
    "                    documents.remove(document)\n",
    "        print('Документ удален.')\n",
    "    else:\n",
    "        print('Документ не найден в базе.')\n",
    "    print('Текущий список документов:')\n",
    "    command_l()"
   ]
  },
  {
   "cell_type": "code",
   "execution_count": 22,
   "metadata": {},
   "outputs": [],
   "source": [
    "def command_m():\n",
    "    doc_num = input_doc_num()\n",
    "    new_shelf = input_shelf()\n",
    "    if directory_exists(new_shelf) and doc_num_exists(doc_num):\n",
    "        directories[def_shelf(doc_num)].remove(doc_num)\n",
    "        directories[new_shelf].append(doc_num)\n",
    "        print('Документ перемещен.')\n",
    "        print('Текущий список документов:')\n",
    "        command_l()\n",
    "    elif not directory_exists(new_shelf):\n",
    "        print('Такой полки не существует. \\\n",
    "        Текущий перечень полок:', shelves_str())\n",
    "    else:\n",
    "        print('Документ не найден в базе.')\n",
    "        print('Текущий список документов:')\n",
    "        command_l()"
   ]
  },
  {
   "cell_type": "code",
   "execution_count": 24,
   "metadata": {},
   "outputs": [
    {
     "name": "stdout",
     "output_type": "stream",
     "text": [
      "Введите команду--l\n",
      "№: 2207 876234, тип: passport, владелец: Василий Гупкин, полка хранения: 1\n",
      "№: 11-2, тип: invoice, владелец: Геннадий Покемонов, полка хранения: 1\n",
      "№: 10006, тип: insurance, владелец: Аристарх Павлов, полка хранения: 2\n",
      "№: 2207 876234, тип: passport, владелец: Василий Гупкин, полка хранения: 1\n",
      "№: 11-2, тип: invoice, владелец: Геннадий Покемонов, полка хранения: 1\n",
      "№: 10006, тип: insurance, владелец: Аристарх Павлов, полка хранения: 2\n",
      "№: 2207 876234, тип: passport, владелец: Василий Гупкин, полка хранения: 1\n",
      "№: 11-2, тип: invoice, владелец: Геннадий Покемонов, полка хранения: 1\n",
      "№: 10006, тип: insurance, владелец: Аристарх Павлов, полка хранения: 2\n",
      "№: 2207 876234, тип: passport, владелец: Василий Гупкин, полка хранения: 1\n",
      "№: 11-2, тип: invoice, владелец: Геннадий Покемонов, полка хранения: 1\n",
      "№: 10006, тип: insurance, владелец: Аристарх Павлов, полка хранения: 2\n"
     ]
    }
   ],
   "source": [
    "user_command = input('Введите команду--')\n",
    "if user_command == 'p':\n",
    "    doc_num = input_doc_num()\n",
    "    print(command_p(doc_num))\n",
    "elif user_command == 's':\n",
    "    doc_num = input_doc_num()\n",
    "    command_s(doc_num)\n",
    "elif user_command == 'l':\n",
    "    command_l()\n",
    "elif user_command == 'ads':\n",
    "    command_ads()\n",
    "elif user_command == 'ds':\n",
    "    command_ds()\n",
    "elif user_command == 'ad':\n",
    "    command_ad()\n",
    "elif user_command == 'd':\n",
    "    command_d()\n",
    "elif user_command == 'm':\n",
    "    command_m()\n",
    "elif user_command != 'q':\n",
    "    print('Такой команды не существует')"
   ]
  },
  {
   "cell_type": "code",
   "execution_count": null,
   "metadata": {},
   "outputs": [],
   "source": []
  },
  {
   "cell_type": "code",
   "execution_count": null,
   "metadata": {},
   "outputs": [],
   "source": []
  },
  {
   "cell_type": "code",
   "execution_count": null,
   "metadata": {},
   "outputs": [],
   "source": []
  },
  {
   "cell_type": "code",
   "execution_count": null,
   "metadata": {},
   "outputs": [],
   "source": []
  },
  {
   "cell_type": "code",
   "execution_count": null,
   "metadata": {},
   "outputs": [],
   "source": []
  }
 ],
 "metadata": {
  "kernelspec": {
   "display_name": "Python 3",
   "language": "python",
   "name": "python3"
  },
  "language_info": {
   "codemirror_mode": {
    "name": "ipython",
    "version": 3
   },
   "file_extension": ".py",
   "mimetype": "text/x-python",
   "name": "python",
   "nbconvert_exporter": "python",
   "pygments_lexer": "ipython3",
   "version": "3.7.4"
  }
 },
 "nbformat": 4,
 "nbformat_minor": 2
}
